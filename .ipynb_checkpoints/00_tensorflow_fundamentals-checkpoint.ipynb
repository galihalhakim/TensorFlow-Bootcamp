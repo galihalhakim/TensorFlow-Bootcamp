{
 "cells": [
  {
   "cell_type": "markdown",
   "id": "8bb8c4a0",
   "metadata": {},
   "source": [
    "# Fundamentals TensorFlow"
   ]
  },
  {
   "cell_type": "raw",
   "id": "2ef095b0",
   "metadata": {},
   "source": [
    "## Introduction to Tensors"
   ]
  },
  {
   "cell_type": "code",
   "execution_count": 1,
   "id": "275f3ade",
   "metadata": {
    "tags": []
   },
   "outputs": [
    {
     "name": "stdout",
     "output_type": "stream",
     "text": [
      "2.7.0\n"
     ]
    }
   ],
   "source": [
    "# import TensorFlow\n",
    "import tensorflow as tf\n",
    "print(tf.__version__)"
   ]
  },
  {
   "cell_type": "code",
   "execution_count": 2,
   "id": "7dbc002d",
   "metadata": {},
   "outputs": [
    {
     "data": {
      "text/plain": [
       "<tf.Tensor: shape=(), dtype=int32, numpy=7>"
      ]
     },
     "execution_count": 2,
     "metadata": {},
     "output_type": "execute_result"
    }
   ],
   "source": [
    "# Create tensor with tf.constant()\n",
    "scalar = tf.constant(7)\n",
    "scalar"
   ]
  },
  {
   "cell_type": "code",
   "execution_count": 3,
   "id": "4e42f262",
   "metadata": {},
   "outputs": [
    {
     "data": {
      "text/plain": [
       "0"
      ]
     },
     "execution_count": 3,
     "metadata": {},
     "output_type": "execute_result"
    }
   ],
   "source": [
    "# Cek the number of dimensions of a tensor (ndim stands for number of dimensions)\n",
    "scalar.ndim"
   ]
  },
  {
   "cell_type": "code",
   "execution_count": 4,
   "id": "fdf71f05",
   "metadata": {},
   "outputs": [
    {
     "data": {
      "text/plain": [
       "<tf.Tensor: shape=(2,), dtype=int32, numpy=array([10, 10])>"
      ]
     },
     "execution_count": 4,
     "metadata": {},
     "output_type": "execute_result"
    }
   ],
   "source": [
    "# Create a vector\n",
    "vector = tf.constant([10,10])\n",
    "vector"
   ]
  },
  {
   "cell_type": "code",
   "execution_count": 5,
   "id": "f2aacaf1",
   "metadata": {},
   "outputs": [
    {
     "data": {
      "text/plain": [
       "1"
      ]
     },
     "execution_count": 5,
     "metadata": {},
     "output_type": "execute_result"
    }
   ],
   "source": [
    "# Cek the dimension of our vector\n",
    "vector.ndim"
   ]
  },
  {
   "cell_type": "code",
   "execution_count": 6,
   "id": "b3fa787a",
   "metadata": {},
   "outputs": [
    {
     "data": {
      "text/plain": [
       "<tf.Tensor: shape=(2, 2), dtype=int32, numpy=\n",
       "array([[10,  7],\n",
       "       [ 7, 10]])>"
      ]
     },
     "execution_count": 6,
     "metadata": {},
     "output_type": "execute_result"
    }
   ],
   "source": [
    "# Create a matrix (has more than 1 dimension)\n",
    "matrix = tf.constant([[10,7],\n",
    "                    [7,10]])\n",
    "matrix"
   ]
  },
  {
   "cell_type": "code",
   "execution_count": 7,
   "id": "0a43891d",
   "metadata": {
    "tags": []
   },
   "outputs": [
    {
     "data": {
      "text/plain": [
       "2"
      ]
     },
     "execution_count": 7,
     "metadata": {},
     "output_type": "execute_result"
    }
   ],
   "source": [
    "matrix.ndim"
   ]
  },
  {
   "cell_type": "code",
   "execution_count": 8,
   "id": "a1bf1f81",
   "metadata": {},
   "outputs": [
    {
     "data": {
      "text/plain": [
       "<tf.Tensor: shape=(3, 2), dtype=float16, numpy=\n",
       "array([[10.,  7.],\n",
       "       [ 3.,  2.],\n",
       "       [ 8.,  9.]], dtype=float16)>"
      ]
     },
     "execution_count": 8,
     "metadata": {},
     "output_type": "execute_result"
    }
   ],
   "source": [
    "# Create another matrix\n",
    "another_matrix = tf.constant([[10., 7.],\n",
    "                             [3., 2.],\n",
    "                             [8., 9.]], dtype = tf.float16) #specify the data type with dtype parameter\n",
    "another_matrix"
   ]
  },
  {
   "cell_type": "code",
   "execution_count": 9,
   "id": "453383ee",
   "metadata": {},
   "outputs": [
    {
     "data": {
      "text/plain": [
       "2"
      ]
     },
     "execution_count": 9,
     "metadata": {},
     "output_type": "execute_result"
    }
   ],
   "source": [
    "# What's the number dimensions of another_matrix\n",
    "another_matrix.ndim"
   ]
  },
  {
   "cell_type": "code",
   "execution_count": 10,
   "id": "a8d96f4e",
   "metadata": {},
   "outputs": [
    {
     "data": {
      "text/plain": [
       "<tf.Tensor: shape=(3, 2, 3), dtype=int32, numpy=\n",
       "array([[[ 1,  2,  3],\n",
       "        [ 4,  5,  6]],\n",
       "\n",
       "       [[ 7,  8,  9],\n",
       "        [10, 11, 12]],\n",
       "\n",
       "       [[13, 14, 15],\n",
       "        [16, 17, 18]]])>"
      ]
     },
     "execution_count": 10,
     "metadata": {},
     "output_type": "execute_result"
    }
   ],
   "source": [
    "# Let's create a tensor\n",
    "tensor = tf.constant([[[1, 2, 3], [4, 5, 6]], \n",
    "                       [[7, 8, 9], [10, 11, 12]],\n",
    "                       [[13, 14, 15], [16, 17, 18]]\n",
    "                      ])\n",
    "tensor"
   ]
  },
  {
   "cell_type": "code",
   "execution_count": 11,
   "id": "9c1b10d7",
   "metadata": {},
   "outputs": [
    {
     "data": {
      "text/plain": [
       "3"
      ]
     },
     "execution_count": 11,
     "metadata": {},
     "output_type": "execute_result"
    }
   ],
   "source": [
    "tensor.ndim"
   ]
  },
  {
   "cell_type": "markdown",
   "id": "8d7fe818",
   "metadata": {},
   "source": [
    "What we've created so far :\n",
    "* Scalar : a single number\n",
    "* Vector : a number with direction (e.g wind speed and direction)\n",
    "* Matrix : a 2-dimensional array of numbers\n",
    "* Tensor : an n-dimensional array of numbers(when n can be any number, a 0-dimensional tensor is a scalar, a 1-dimensional                tensor is a vector)"
   ]
  },
  {
   "cell_type": "markdown",
   "id": "121cd307-2823-42be-bc84-3fafc5b3495a",
   "metadata": {},
   "source": [
    "### Creating tensor with tf.Variable"
   ]
  },
  {
   "cell_type": "code",
   "execution_count": 12,
   "id": "cedf4e67",
   "metadata": {},
   "outputs": [
    {
     "data": {
      "text/plain": [
       "(<tf.Variable 'Variable:0' shape=(2,) dtype=int32, numpy=array([10,  7])>,\n",
       " <tf.Tensor: shape=(2,), dtype=int32, numpy=array([10,  7])>)"
      ]
     },
     "execution_count": 12,
     "metadata": {},
     "output_type": "execute_result"
    }
   ],
   "source": [
    "# Create the same tensor with tf.Variable() as above\n",
    "changeable_tensor = tf.Variable([10,7])\n",
    "unchangeable_tensor = tf.constant([10,7])\n",
    "changeable_tensor, unchangeable_tensor"
   ]
  },
  {
   "cell_type": "code",
   "execution_count": 13,
   "id": "8c452ddf-1061-41fc-873f-9180114ec8e9",
   "metadata": {},
   "outputs": [
    {
     "data": {
      "text/plain": [
       "<tf.Variable 'Variable:0' shape=(2,) dtype=int32, numpy=array([7, 7])>"
      ]
     },
     "execution_count": 13,
     "metadata": {},
     "output_type": "execute_result"
    }
   ],
   "source": [
    "# Let's try  change on of elements in our changable tensor try with .assign()\n",
    "changeable_tensor[0].assign(7)\n",
    "changeable_tensor"
   ]
  },
  {
   "cell_type": "code",
   "execution_count": 14,
   "id": "f112054a-4b9d-42c4-a809-1a5392f96fe4",
   "metadata": {},
   "outputs": [
    {
     "ename": "AttributeError",
     "evalue": "'tensorflow.python.framework.ops.EagerTensor' object has no attribute 'assign'",
     "output_type": "error",
     "traceback": [
      "\u001b[1;31m---------------------------------------------------------------------------\u001b[0m",
      "\u001b[1;31mAttributeError\u001b[0m                            Traceback (most recent call last)",
      "\u001b[1;32mC:\\Users\\GALIHA~1\\AppData\\Local\\Temp/ipykernel_14592/4212716637.py\u001b[0m in \u001b[0;36m<module>\u001b[1;34m\u001b[0m\n\u001b[1;32m----> 1\u001b[1;33m \u001b[0munchangeable_tensor\u001b[0m\u001b[1;33m[\u001b[0m\u001b[1;36m0\u001b[0m\u001b[1;33m]\u001b[0m\u001b[1;33m.\u001b[0m\u001b[0massign\u001b[0m\u001b[1;33m(\u001b[0m\u001b[1;36m7\u001b[0m\u001b[1;33m)\u001b[0m\u001b[1;33m\u001b[0m\u001b[1;33m\u001b[0m\u001b[0m\n\u001b[0m\u001b[0;32m      2\u001b[0m \u001b[0munchangeable_tensor\u001b[0m\u001b[1;33m\u001b[0m\u001b[1;33m\u001b[0m\u001b[0m\n",
      "\u001b[1;32mc:\\users\\galih alhakim\\appdata\\local\\programs\\python\\python39\\lib\\site-packages\\tensorflow\\python\\framework\\ops.py\u001b[0m in \u001b[0;36m__getattr__\u001b[1;34m(self, name)\u001b[0m\n\u001b[0;32m    440\u001b[0m         \u001b[1;32mfrom\u001b[0m \u001b[0mtensorflow\u001b[0m\u001b[1;33m.\u001b[0m\u001b[0mpython\u001b[0m\u001b[1;33m.\u001b[0m\u001b[0mops\u001b[0m\u001b[1;33m.\u001b[0m\u001b[0mnumpy_ops\u001b[0m \u001b[1;32mimport\u001b[0m \u001b[0mnp_config\u001b[0m\u001b[1;33m\u001b[0m\u001b[1;33m\u001b[0m\u001b[0m\n\u001b[0;32m    441\u001b[0m         np_config.enable_numpy_behavior()\"\"\".format(type(self).__name__, name))\n\u001b[1;32m--> 442\u001b[1;33m     \u001b[0mself\u001b[0m\u001b[1;33m.\u001b[0m\u001b[0m__getattribute__\u001b[0m\u001b[1;33m(\u001b[0m\u001b[0mname\u001b[0m\u001b[1;33m)\u001b[0m\u001b[1;33m\u001b[0m\u001b[1;33m\u001b[0m\u001b[0m\n\u001b[0m\u001b[0;32m    443\u001b[0m \u001b[1;33m\u001b[0m\u001b[0m\n\u001b[0;32m    444\u001b[0m   \u001b[1;33m@\u001b[0m\u001b[0mstaticmethod\u001b[0m\u001b[1;33m\u001b[0m\u001b[1;33m\u001b[0m\u001b[0m\n",
      "\u001b[1;31mAttributeError\u001b[0m: 'tensorflow.python.framework.ops.EagerTensor' object has no attribute 'assign'"
     ]
    }
   ],
   "source": [
    "unchangeable_tensor[0].assign(7)\n",
    "unchangeable_tensor"
   ]
  },
  {
   "cell_type": "markdown",
   "id": "eaf1e062-9b3b-49ce-b04b-41f84fb8601b",
   "metadata": {
    "tags": []
   },
   "source": [
    "### Creating Random Tensor\n",
    "Random Tensor are tensors of some abitrary size which contain random numbers."
   ]
  },
  {
   "cell_type": "code",
   "execution_count": null,
   "id": "4d7204ac-305c-4b25-b587-85ab97146f48",
   "metadata": {
    "jp-MarkdownHeadingCollapsed": true,
    "tags": []
   },
   "outputs": [],
   "source": [
    "# Create two random (but the same) tensors\n",
    "random_1 = tf.random.Generator.from_seed(42) # Set seed  for reproducibility\n",
    "random_1 = random_1.normal(shape=(3,2))\n",
    "random_2 = tf.random.Generator.from_seed(42) # Set seed  for reproducibility\n",
    "random_2 = random_2.normal(shape=(3,2))\n",
    "\n",
    "# Are they Equal??\n",
    "random_1, random_2, random_1 == random_2"
   ]
  },
  {
   "cell_type": "markdown",
   "id": "b0b7f9c9-bf5c-4545-8620-46918b15ba6a",
   "metadata": {},
   "source": [
    "### Shuffle the order of elements in a tensor"
   ]
  },
  {
   "cell_type": "code",
   "execution_count": null,
   "id": "eec8942e-2e10-47c5-ac42-6b54efd157f1",
   "metadata": {},
   "outputs": [],
   "source": [
    "# Shuffle a tensor (valuable for when you want to suffle your data so the inherent order doesn't effect learning)\n",
    "not_shuffled = tf.constant([[10, 7],\n",
    "                          [3, 4],\n",
    "                          [2,5]])"
   ]
  },
  {
   "cell_type": "code",
   "execution_count": null,
   "id": "178ec56a-36ef-4138-b3ef-a05d7e0a2a1f",
   "metadata": {},
   "outputs": [],
   "source": [
    "# Shuffle our random non-shuffled tensor\n",
    "tf.random.shuffle(not_shuffled)"
   ]
  },
  {
   "cell_type": "raw",
   "id": "497e22cb-88df-458c-a923-6b2ebb8e0d8f",
   "metadata": {},
   "source": [
    "Exercise : Read through TensorFlow documentation on random seed generation"
   ]
  },
  {
   "cell_type": "code",
   "execution_count": null,
   "id": "9adf4ed0-9bdc-45b0-b9fb-303232aee714",
   "metadata": {},
   "outputs": [],
   "source": [
    "tf.random.set_seed(42) # global level random seed\n",
    "tf.random.shuffle(not_shuffled, seed=42)  # operation level random seed"
   ]
  },
  {
   "cell_type": "markdown",
   "id": "77e97ad0-611e-4412-aea6-eef70b2b5f77",
   "metadata": {},
   "source": [
    "## Other ways to make tensors"
   ]
  },
  {
   "cell_type": "code",
   "execution_count": null,
   "id": "3d3dca5b-1cd9-4410-a615-7de946db3c51",
   "metadata": {},
   "outputs": [],
   "source": [
    "# Create a tensor of all ones\n",
    "tf.ones([10,7])"
   ]
  },
  {
   "cell_type": "code",
   "execution_count": null,
   "id": "578a1602-d920-429d-a3dc-103b8d321efc",
   "metadata": {},
   "outputs": [],
   "source": [
    "# Create a tensor of all zeros\n",
    "tf.zeros(shape=(3,4))"
   ]
  },
  {
   "cell_type": "markdown",
   "id": "b6d05691-d10e-4578-87f6-5e8f4732bb56",
   "metadata": {},
   "source": [
    "### Turn Numpy arrays into tensors\n",
    "the main difference between numpy array and tensorflow tensors is that tensors can be run on a GPU (much faster for numerical computing)."
   ]
  },
  {
   "cell_type": "code",
   "execution_count": 16,
   "id": "15bf5be0-5a42-4f1c-96f9-d95a210263eb",
   "metadata": {},
   "outputs": [
    {
     "data": {
      "text/plain": [
       "array([ 1,  2,  3,  4,  5,  6,  7,  8,  9, 10, 11, 12, 13, 14, 15, 16, 17,\n",
       "       18, 19, 20, 21, 22, 23, 24])"
      ]
     },
     "execution_count": 16,
     "metadata": {},
     "output_type": "execute_result"
    }
   ],
   "source": [
    "# You can also turn Numpy Arrays to tensor\n",
    "import numpy as np\n",
    "numpy_a = np.arange(1, 25, dtype=np.int32) # Create a numpy array between 1 and 25\n",
    "numpy_a\n",
    "# x = tf.constant(some_matrix) # capital for matrix or tensor\n",
    "# y = tf.constant(vector) # non-capital for vector"
   ]
  },
  {
   "cell_type": "code",
   "execution_count": null,
   "id": "83ff18ef-4975-44da-addb-d943d7711b46",
   "metadata": {},
   "outputs": [],
   "source": [
    "A = tf.constant(numpy_a, shape=(3, 8))\n",
    "B = tf.constant(numpy_a)\n",
    "A, B"
   ]
  },
  {
   "cell_type": "code",
   "execution_count": null,
   "id": "113695fa-f794-44f7-9af5-b5b240dc4710",
   "metadata": {},
   "outputs": [],
   "source": [
    "A.ndim"
   ]
  },
  {
   "cell_type": "markdown",
   "id": "222f1b82-a491-40e0-8f94-e538ef319e59",
   "metadata": {},
   "source": [
    "### Getting Information From Tensors\n",
    "* Shape\n",
    "* Rank\n",
    "* Axis or Dimension\n",
    "* Size"
   ]
  },
  {
   "cell_type": "code",
   "execution_count": null,
   "id": "717762da-c99d-4f64-ad52-a2c7c63734df",
   "metadata": {},
   "outputs": [],
   "source": [
    "# Create a rank 4 tensor ( 4 dimensions )\n",
    "rank_4_tensor = tf.zeros(shape=(2, 3, 4, 5))\n",
    "rank_4_tensor"
   ]
  },
  {
   "cell_type": "code",
   "execution_count": null,
   "id": "f67c6b3c-65d4-4e4e-bd1b-8e6bf17d600b",
   "metadata": {},
   "outputs": [],
   "source": [
    "rank_4_tensor.shape, rank_4_tensor.ndim, tf.size(rank_4_tensor)"
   ]
  },
  {
   "cell_type": "code",
   "execution_count": null,
   "id": "82a0b66b-fce0-446e-8944-1c6b15b68958",
   "metadata": {},
   "outputs": [],
   "source": [
    "2 * 3 * 4 * 5"
   ]
  },
  {
   "cell_type": "code",
   "execution_count": null,
   "id": "3606057e-c5eb-44fb-8d17-7e7d11ab88f6",
   "metadata": {},
   "outputs": [],
   "source": [
    "# Get various attributes of our tensor\n",
    "print(\"Datatype of every element              : \", rank_4_tensor.dtype)\n",
    "print(\"Number of Dimension (rank)             : \", rank_4_tensor.ndim)\n",
    "print(\"Shape of tensor                        : \", rank_4_tensor.shape)\n",
    "print(\"Elements along the 0 axis              : \", rank_4_tensor.shape[0])\n",
    "print(\"Elements along the last axis           : \", rank_4_tensor.shape[-1])\n",
    "print(\"Total number of elements in our tensor : \", tf.size(rank_4_tensor))\n",
    "print(\"Total number of elements in our tensor : \", tf.size(rank_4_tensor).numpy())"
   ]
  },
  {
   "cell_type": "markdown",
   "id": "f2bdb588-468a-42d5-b3ac-adc8d60a6545",
   "metadata": {},
   "source": [
    "### Indexing tensors\n",
    "Tensors can be indexed just like Pyton lists."
   ]
  },
  {
   "cell_type": "code",
   "execution_count": null,
   "id": "cdc80994-1ea7-44e2-b123-b5f278358528",
   "metadata": {},
   "outputs": [],
   "source": [
    "some_list = [1, 2, 3, 4]\n",
    "some_list[:2]"
   ]
  },
  {
   "cell_type": "code",
   "execution_count": null,
   "id": "d365f9e4-ad73-46ff-b643-37bb9ca6136b",
   "metadata": {},
   "outputs": [],
   "source": [
    "# Get the first 2 elements of each dimension\n",
    "rank_4_tensor[:2, :2, :2, :2]"
   ]
  },
  {
   "cell_type": "code",
   "execution_count": null,
   "id": "00fcb5e2-c612-4666-9398-bf4192866924",
   "metadata": {},
   "outputs": [],
   "source": [
    "some_list[:1]"
   ]
  },
  {
   "cell_type": "code",
   "execution_count": null,
   "id": "e3f24a39-ad24-462e-9277-a37ad50b078a",
   "metadata": {},
   "outputs": [],
   "source": [
    "rank_4_tensor.shape"
   ]
  },
  {
   "cell_type": "code",
   "execution_count": null,
   "id": "c510441d-ff3a-4fdd-a019-898270cd33c3",
   "metadata": {},
   "outputs": [],
   "source": [
    "# Get the first element from each dimension from each index except for the final one\n",
    "rank_4_tensor[:1, :1, :1, :]"
   ]
  },
  {
   "cell_type": "code",
   "execution_count": null,
   "id": "6ea418d7-03ff-4340-99e6-e7666441d4b7",
   "metadata": {},
   "outputs": [],
   "source": [
    "# Create a rank 2 tensor (2 dimensions)\n",
    "rank_2_tensor = tf.constant([[10, 7],\n",
    "                             [3, 4]])\n",
    "rank_2_tensor.shape, rank_2_tensor.ndim"
   ]
  },
  {
   "cell_type": "code",
   "execution_count": null,
   "id": "c2c56ba8-b161-4b0d-81ac-4c37fd5fc290",
   "metadata": {},
   "outputs": [],
   "source": [
    "rank_2_tensor"
   ]
  },
  {
   "cell_type": "code",
   "execution_count": null,
   "id": "69431292-32e6-481e-90df-a342e0d8249a",
   "metadata": {},
   "outputs": [],
   "source": [
    "some_list, some_list[-1]"
   ]
  },
  {
   "cell_type": "code",
   "execution_count": null,
   "id": "0b3eca01-481b-4750-81f0-029608115d0c",
   "metadata": {},
   "outputs": [],
   "source": [
    "# Get the last item of each of row of our rank 2 tensor\n",
    "rank_2_tensor[:, -1]"
   ]
  },
  {
   "cell_type": "code",
   "execution_count": null,
   "id": "18c9fd68-4948-4086-9bc5-f3873033a0bc",
   "metadata": {},
   "outputs": [],
   "source": [
    "# Add in extra dimension to our rank 2 dimensions\n",
    "rank_3_tensor = rank_2_tensor[..., tf.newaxis]\n",
    "rank_3_tensor"
   ]
  },
  {
   "cell_type": "code",
   "execution_count": null,
   "id": "f7e1a693-29c0-49b1-a1d7-23cb79c1a570",
   "metadata": {},
   "outputs": [],
   "source": [
    "# Alternative to tf.newaxis\n",
    "tf.expand_dims(rank_2_tensor, axis=-1) # \"-1\" means expand the final axis"
   ]
  },
  {
   "cell_type": "code",
   "execution_count": null,
   "id": "9a53b83b-5ea3-4beb-b5a6-1e009a29a339",
   "metadata": {},
   "outputs": [],
   "source": [
    "# Expands the 0-axis\n",
    "tf.expand_dims(rank_2_tensor, axis=0)"
   ]
  },
  {
   "cell_type": "code",
   "execution_count": null,
   "id": "ee23b96f-bf5e-4f69-9c13-bb1ba99c80f3",
   "metadata": {},
   "outputs": [],
   "source": [
    "rank_2_tensor"
   ]
  },
  {
   "cell_type": "markdown",
   "id": "324b5d5c-3fb0-428e-843b-dde51b3e4cbf",
   "metadata": {},
   "source": [
    "### Manipulating Tensor (tensor operations)\n",
    "#### Basic Operation ####\n",
    "+, -, *, /"
   ]
  },
  {
   "cell_type": "code",
   "execution_count": null,
   "id": "4a7da63b-7e41-45dd-9ce9-0c44f00845d8",
   "metadata": {},
   "outputs": [],
   "source": [
    "# You can add values to a tensor using the addition operator\n",
    "tensor = tf.constant([[10, 7],\n",
    "                      [3, 4]])\n",
    "tensor + 10"
   ]
  },
  {
   "cell_type": "code",
   "execution_count": null,
   "id": "856be871-15ef-48fa-844d-d29f8197091d",
   "metadata": {},
   "outputs": [],
   "source": [
    "# Original tensor is unchanged\n",
    "tensor"
   ]
  },
  {
   "cell_type": "code",
   "execution_count": null,
   "id": "1e988ccd-4339-4683-b59b-39ff9c6d8faf",
   "metadata": {},
   "outputs": [],
   "source": [
    "# Multiplication also work\n",
    "tensor * 10"
   ]
  },
  {
   "cell_type": "code",
   "execution_count": null,
   "id": "a80a8504-2583-4158-bc28-36709a0eba83",
   "metadata": {},
   "outputs": [],
   "source": [
    "# Substraction if you want\n",
    "tensor - 10"
   ]
  },
  {
   "cell_type": "code",
   "execution_count": null,
   "id": "b81a57e0-e2a2-4471-99c8-0aebe889d535",
   "metadata": {},
   "outputs": [],
   "source": [
    "# We can use the tensorflow built-in function too\n",
    "tf.multiply(tensor, 10)"
   ]
  },
  {
   "cell_type": "code",
   "execution_count": null,
   "id": "c8182f6d-d301-491a-856d-e95835911bbe",
   "metadata": {},
   "outputs": [],
   "source": [
    "tensor"
   ]
  },
  {
   "cell_type": "markdown",
   "id": "7e7d686a-e063-4342-a83f-66f5b4154cf7",
   "metadata": {},
   "source": [
    "#### Matrix Multiplication ####\n",
    "in Machine Learning, matrix multiplication is one of the most common tensor operations."
   ]
  },
  {
   "cell_type": "code",
   "execution_count": null,
   "id": "9793c4d0-95d7-4030-88ec-7d628437ec75",
   "metadata": {},
   "outputs": [],
   "source": [
    "# Matrix multiplication in tensorflow\n",
    "print(tensor)\n",
    "tf.matmul(tensor, tensor)"
   ]
  },
  {
   "cell_type": "code",
   "execution_count": null,
   "id": "2a1b425a-ad39-4011-b557-7efbc2c53098",
   "metadata": {},
   "outputs": [],
   "source": [
    "# Matrix Multiplication with python operator \"@\"\n",
    "tensor @ tensor"
   ]
  },
  {
   "cell_type": "code",
   "execution_count": null,
   "id": "e6c59037-f9a3-4ccd-9e69-47d4b2019080",
   "metadata": {},
   "outputs": [],
   "source": [
    "tensor.shape"
   ]
  },
  {
   "cell_type": "code",
   "execution_count": null,
   "id": "8e13794a-44f6-433f-9fb1-9f04e5ade2eb",
   "metadata": {},
   "outputs": [],
   "source": [
    "# Create a tensor (3, 2) tensor\n",
    "X = tf.constant([[1, 2],\n",
    "                 [3, 4],\n",
    "                 [5, 6]])\n",
    "# Create a tensor (3, 2) tensor\n",
    "Y = tf.constant([[7, 8],\n",
    "                 [9, 10],\n",
    "                 [11, 12]])\n",
    "X, Y"
   ]
  },
  {
   "cell_type": "code",
   "execution_count": null,
   "id": "79f00a86-9b73-40ac-b00e-e40b67d66b40",
   "metadata": {},
   "outputs": [],
   "source": [
    "# Try to matrix multiply tensors of same shape\n",
    "X @ Y"
   ]
  },
  {
   "cell_type": "code",
   "execution_count": null,
   "id": "9d928208-3778-4719-b29d-1399c60ef94c",
   "metadata": {},
   "outputs": [],
   "source": [
    "# Let's change the shape of Y\n",
    "tf.reshape(Y, shape=(2, 3))"
   ]
  },
  {
   "cell_type": "code",
   "execution_count": null,
   "id": "f889e7cf-f54d-4409-90fc-710223021249",
   "metadata": {},
   "outputs": [],
   "source": [
    "X.shape, tf.reshape(Y, shape=(2, 3)).shape"
   ]
  },
  {
   "cell_type": "code",
   "execution_count": null,
   "id": "453dda6a-7a63-4fa4-af9f-72cce33e25e7",
   "metadata": {},
   "outputs": [],
   "source": [
    "# Try to matrix multiply X by reshape Y\n",
    "X @ tf.reshape(Y, shape=(2, 3))"
   ]
  },
  {
   "cell_type": "code",
   "execution_count": null,
   "id": "959ac646-8d2d-486a-8848-5c2dc2130976",
   "metadata": {},
   "outputs": [],
   "source": [
    "# Can do the same with transpose\n",
    "X, tf.transpose(X), tf.reshape(X, shape=(2, 3))"
   ]
  },
  {
   "cell_type": "code",
   "execution_count": null,
   "id": "cb79076b-20e4-4d5e-bd63-9b8fd668ea07",
   "metadata": {},
   "outputs": [],
   "source": [
    "# Try matrix multiplication with transpose rather than reshape\n",
    "tf.matmul(tf.transpose(X), Y)"
   ]
  },
  {
   "cell_type": "markdown",
   "id": "fa9c3485-bc4c-4462-b087-4cb48e85708b",
   "metadata": {},
   "source": [
    "#### The Dot Product ####\n",
    "Matrix Multiplication is also referred to as the dot product.\n",
    "You can perform matrix multiplication using :\n",
    "* tf.matmul()\n",
    "* tf.tensordot()\n",
    "* @"
   ]
  },
  {
   "cell_type": "code",
   "execution_count": null,
   "id": "c74a8031-875c-46b4-8c07-b77857651fd7",
   "metadata": {},
   "outputs": [],
   "source": [
    "# Perform the dot product on X and Y (requires X or Y to be transposed)\n",
    "tf.tensordot(tf.transpose(X), Y, axes = 1)"
   ]
  },
  {
   "cell_type": "code",
   "execution_count": null,
   "id": "4a559b06-b4e8-4133-a790-fe6438823087",
   "metadata": {},
   "outputs": [],
   "source": [
    "# Perform matrix multiplication between X and Y (transposed)\n",
    "tf.matmul(X, tf.transpose(Y))"
   ]
  },
  {
   "cell_type": "code",
   "execution_count": null,
   "id": "80262176-c49c-4774-be84-9e5e7d28027c",
   "metadata": {},
   "outputs": [],
   "source": [
    "# Perform matrix multiplication between X and Y (reshaped)\n",
    "tf.matmul(X, tf.reshape(Y, shape=(2, 3)))"
   ]
  },
  {
   "cell_type": "code",
   "execution_count": null,
   "id": "7dc3392b-cd67-4cad-b336-3c17ef92a954",
   "metadata": {},
   "outputs": [],
   "source": [
    "# Check the values of Y, reshape Y and transposed Y\n",
    "print(\"Normal Y:\")\n",
    "print(Y, \"\\n\")\n",
    "\n",
    "print(\"Y reshaped to (2, 3):\")\n",
    "print(tf.reshape(Y, (2, 3)), \"\\n\")\n",
    "\n",
    "print(\"Y transposed:\")\n",
    "print(tf.transpose(Y))"
   ]
  },
  {
   "cell_type": "markdown",
   "id": "151ee43c-cee8-4cb0-b2a2-bb1a9c68ab9b",
   "metadata": {},
   "source": [
    "### Changing the datatype of the tensor"
   ]
  },
  {
   "cell_type": "code",
   "execution_count": null,
   "id": "b29ab28e-b688-4df4-b415-4962b7e83b68",
   "metadata": {},
   "outputs": [],
   "source": [
    "# Create a new tensor with default datatype (float32)\n",
    "B = tf.constant([1.7, 7.4])\n",
    "B.dtype"
   ]
  },
  {
   "cell_type": "code",
   "execution_count": null,
   "id": "4aaaac30-9d65-4ca2-b48a-481ee20b661f",
   "metadata": {},
   "outputs": [],
   "source": [
    "C = tf.constant([7, 10])\n",
    "C.dtype"
   ]
  },
  {
   "cell_type": "code",
   "execution_count": null,
   "id": "30dc964c-b938-4169-9679-138bf2a5c2f3",
   "metadata": {},
   "outputs": [],
   "source": [
    "# Change from float32 to float16 (reduced precision)\n",
    "D = tf.cast(B, dtype=tf.float16)\n",
    "D, B.dtype"
   ]
  },
  {
   "cell_type": "code",
   "execution_count": null,
   "id": "c9e5fa54-95b6-4285-b0a8-ea0e4528035f",
   "metadata": {},
   "outputs": [],
   "source": [
    "# Change from int32 to float32\n",
    "E = tf.cast(C, dtype=tf.float32)\n",
    "E"
   ]
  },
  {
   "cell_type": "code",
   "execution_count": null,
   "id": "26e53745-bebb-4ca8-88a1-000b4a32f54d",
   "metadata": {},
   "outputs": [],
   "source": [
    "E_float16 = tf.cast(E, dtype=tf.float16)\n",
    "E_float16"
   ]
  },
  {
   "cell_type": "markdown",
   "id": "78859625-a377-4be9-b3ce-45063de98b6a",
   "metadata": {},
   "source": [
    "### Aggregating tensors ###\n",
    "Aggregating tensors = condensing them from multiple values down to a smaller amount of values."
   ]
  },
  {
   "cell_type": "code",
   "execution_count": null,
   "id": "80613aab-5723-42f6-9fb2-3d07a77bde61",
   "metadata": {},
   "outputs": [],
   "source": [
    "# Get the absolute values\n",
    "D = tf.constant([-7, -10])\n",
    "D"
   ]
  },
  {
   "cell_type": "code",
   "execution_count": null,
   "id": "90940b7c-5e39-4c37-ba8e-d263be22facf",
   "metadata": {},
   "outputs": [],
   "source": [
    "# Get the absolute values\n",
    "tf.abs(D)"
   ]
  },
  {
   "cell_type": "markdown",
   "id": "b25469c5-9156-42c9-8df8-a297e1556195",
   "metadata": {},
   "source": [
    "##### Let's go through the following forms of aggregation: #####\n",
    "* Get the minimum\n",
    "* Get the maximum\n",
    "* Get the mean of a tensor\n",
    "* Get the sum of a tensor"
   ]
  },
  {
   "cell_type": "code",
   "execution_count": null,
   "id": "5e58aefc-03b1-4f19-82e3-e41748e4164b",
   "metadata": {},
   "outputs": [],
   "source": [
    "# Create a random tensor with values between 0 and 100 of size 50\n",
    "E = tf.constant(np.random.randint(0, 100, size=50))\n",
    "E"
   ]
  },
  {
   "cell_type": "code",
   "execution_count": null,
   "id": "e757fa80-3d76-4c4c-9f63-4ed470140958",
   "metadata": {},
   "outputs": [],
   "source": [
    "tf.size(E), E.shape, E.ndim"
   ]
  },
  {
   "cell_type": "code",
   "execution_count": null,
   "id": "1990e16f-63be-4774-ac0d-474cb94f00ce",
   "metadata": {},
   "outputs": [],
   "source": [
    "# Find the minimum\n",
    "tf.reduce_min(E)"
   ]
  },
  {
   "cell_type": "code",
   "execution_count": null,
   "id": "5adaa393-4132-4ee1-8138-6fabf3debc99",
   "metadata": {},
   "outputs": [],
   "source": [
    "# Find the maximum\n",
    "tf.reduce_max(E)"
   ]
  },
  {
   "cell_type": "code",
   "execution_count": null,
   "id": "35b79778-329f-43ad-9d21-61ece4c4d71d",
   "metadata": {},
   "outputs": [],
   "source": [
    "# Find the mean\n",
    "tf.reduce_mean(E)"
   ]
  },
  {
   "cell_type": "code",
   "execution_count": null,
   "id": "2cddf20a-2fbe-422a-a137-4fe933d0228b",
   "metadata": {},
   "outputs": [],
   "source": [
    "# Find the sum"
   ]
  },
  {
   "cell_type": "code",
   "execution_count": null,
   "id": "9ffbd2cc-7dbe-4f39-b5b3-489c2a95cefa",
   "metadata": {},
   "outputs": [],
   "source": [
    "tf.reduce_sum(E)"
   ]
  },
  {
   "cell_type": "code",
   "execution_count": null,
   "id": "458a6479-afac-41c0-8419-ec4ca7b41c30",
   "metadata": {},
   "outputs": [],
   "source": [
    "# Find the variance of our tensor\n",
    "tf.reduce_variance(E) # Won't work"
   ]
  },
  {
   "cell_type": "code",
   "execution_count": null,
   "id": "f052b8ad-2047-4cf6-9f55-487375ee34cb",
   "metadata": {},
   "outputs": [],
   "source": [
    "# To Find variance of our tensor, we need access to tensorflow_probability\n",
    "import tensorflow_probability as tfp\n",
    "tfp.stats.variance(E)"
   ]
  },
  {
   "cell_type": "code",
   "execution_count": null,
   "id": "c00c2cbd-1a08-4e1a-b2c5-9a12194ce5f4",
   "metadata": {},
   "outputs": [],
   "source": [
    "# Find the standard deviation\n",
    "tf.math.reduce_std(tf.cast(E, dtype=tf.float32))"
   ]
  },
  {
   "cell_type": "code",
   "execution_count": null,
   "id": "5822d33d-2f35-4cf5-8676-60eedfa88169",
   "metadata": {},
   "outputs": [],
   "source": [
    "# Find the variance of our E tensor\n",
    "tf.math.reduce_variance(tf.cast(E, dtype=tf.float32))"
   ]
  },
  {
   "cell_type": "markdown",
   "id": "d739f171-0371-4ec8-9f60-a37d24c6f9c1",
   "metadata": {},
   "source": [
    " ### Find the positional maximum and minimum"
   ]
  },
  {
   "cell_type": "code",
   "execution_count": null,
   "id": "9de80c7d-cf11-4dfa-bc30-850736fee794",
   "metadata": {},
   "outputs": [],
   "source": [
    "# Create new tensor for finding positional minimum and maximum\n",
    "tf.random.set_seed(42)\n",
    "F = tf.random.uniform(shape=[50])\n",
    "F"
   ]
  },
  {
   "cell_type": "code",
   "execution_count": null,
   "id": "53424bb5-fa7f-4144-bba1-6a0ab9382395",
   "metadata": {},
   "outputs": [],
   "source": [
    "# Find the positional maximum\n",
    "tf.argmax(F)"
   ]
  },
  {
   "cell_type": "code",
   "execution_count": null,
   "id": "78297efd-6311-4ea0-97db-84d4617ecc24",
   "metadata": {},
   "outputs": [],
   "source": [
    "# Index on our larger value position\n",
    "F[tf.argmax(F)]"
   ]
  },
  {
   "cell_type": "code",
   "execution_count": null,
   "id": "47c6d926-f271-43d8-91ab-503bd70acaec",
   "metadata": {},
   "outputs": [],
   "source": [
    "# Find the max value of F\n",
    "tf.reduce_max(F)"
   ]
  },
  {
   "cell_type": "code",
   "execution_count": null,
   "id": "19bd461a-85da-4183-be1d-0c376511890f",
   "metadata": {},
   "outputs": [],
   "source": [
    "# Check for equality\n",
    "F[tf.argmax(F)] == tf.reduce_max(F)"
   ]
  },
  {
   "cell_type": "code",
   "execution_count": null,
   "id": "90e357d8-63e5-42e1-ad65-95553dae2640",
   "metadata": {},
   "outputs": [],
   "source": [
    "# Find the positional minimum\n",
    "tf.argmin(F)"
   ]
  },
  {
   "cell_type": "code",
   "execution_count": null,
   "id": "ee16cff6-9fc4-4201-aa31-b66676c6e17b",
   "metadata": {},
   "outputs": [],
   "source": [
    "F[tf.argmin(F)]"
   ]
  },
  {
   "cell_type": "markdown",
   "id": "74517e1e-1af1-48b7-8b31-263e6bf8926e",
   "metadata": {},
   "source": [
    "### Squeezing a tensor (removing all single dimension)"
   ]
  },
  {
   "cell_type": "code",
   "execution_count": null,
   "id": "8077616d-12c5-470d-96d3-f57a0c928c1d",
   "metadata": {},
   "outputs": [],
   "source": [
    "# Create a tensor to get started\n",
    "tf.random.set_seed(42)\n",
    "G = tf.constant(tf.random.uniform(shape=[50]), shape=(1, 1, 1, 1, 50))\n",
    "G"
   ]
  },
  {
   "cell_type": "code",
   "execution_count": null,
   "id": "8bb6514b-68ff-4e9e-850d-60f3ed283341",
   "metadata": {},
   "outputs": [],
   "source": [
    "G.shape"
   ]
  },
  {
   "cell_type": "code",
   "execution_count": null,
   "id": "9de079f7-eeec-40d2-920f-ca434bdc9039",
   "metadata": {},
   "outputs": [],
   "source": [
    "G_squeezed = tf.squeeze(G)\n",
    "G_squeezed"
   ]
  },
  {
   "cell_type": "markdown",
   "id": "13666834-6c63-4407-a073-f085087dd301",
   "metadata": {},
   "source": [
    "### One-hot encoding tensors"
   ]
  },
  {
   "cell_type": "code",
   "execution_count": null,
   "id": "650d7642-3480-417b-891a-5faa4ccc48c9",
   "metadata": {},
   "outputs": [],
   "source": [
    "# Create a list of indices\n",
    "some_list = [0, 1, 2, 3] # could be red, green, blue, purple\n",
    "\n",
    "# One hot encode our list of indices\n",
    "tf.one_hot(some_list, depth=4)"
   ]
  },
  {
   "cell_type": "code",
   "execution_count": null,
   "id": "600622de-1ee7-451e-b993-0b14b68f0b68",
   "metadata": {},
   "outputs": [],
   "source": [
    "# Specify custom values for one shot encoding\n",
    "tf.one_hot(some_list, depth=4, on_value=\"yo I Love deep Learning\", off_value=\"I also like build PC\")"
   ]
  },
  {
   "cell_type": "markdown",
   "id": "c02209c0-8c34-47c4-a2ea-234a08e04111",
   "metadata": {},
   "source": [
    "### Squaring, log, square root"
   ]
  },
  {
   "cell_type": "code",
   "execution_count": null,
   "id": "a38a128c-b847-4a71-82b5-2aed1ea1ca18",
   "metadata": {},
   "outputs": [],
   "source": [
    "# Create a new tensor\n",
    "H = tf.range(1, 10)\n",
    "H"
   ]
  },
  {
   "cell_type": "code",
   "execution_count": null,
   "id": "f26d79cc-dbaf-4888-9cf7-c9fa5b5d7d95",
   "metadata": {},
   "outputs": [],
   "source": [
    "# Square it\n",
    "tf.square(H)"
   ]
  },
  {
   "cell_type": "code",
   "execution_count": null,
   "id": "1a349ddf-e3dd-4167-a4be-c6133cc0fef4",
   "metadata": {},
   "outputs": [],
   "source": [
    "# Find the square root\n",
    "tf.math.sqrt(H) # Will error, method requires non-int type"
   ]
  },
  {
   "cell_type": "code",
   "execution_count": null,
   "id": "1e6b5b6a-8171-4312-be6a-d05c8c4b255d",
   "metadata": {},
   "outputs": [],
   "source": [
    "# Find the square root\n",
    "tf.math.sqrt(tf.cast(H, dtype=tf.float32))"
   ]
  },
  {
   "cell_type": "code",
   "execution_count": null,
   "id": "fd2a5316-06e3-4569-a640-bc1fee9c4b68",
   "metadata": {},
   "outputs": [],
   "source": [
    "# Find the Log\n",
    "tf.math.log(tf.cast(H, dtype=tf.float32))"
   ]
  },
  {
   "cell_type": "markdown",
   "id": "673f8062-2447-45f2-92a8-ac23c261b724",
   "metadata": {},
   "source": [
    "### Tensors and NumPy\n",
    "tensorflow interacts beautifuly with numpy array"
   ]
  },
  {
   "cell_type": "code",
   "execution_count": null,
   "id": "dadc7e1d-a0ad-4b1f-9700-b648184f75a8",
   "metadata": {},
   "outputs": [],
   "source": [
    "# Create a tensor directly from a numpy array\n",
    "J = tf.constant(np.array([3., 7., 10.]))\n",
    "J"
   ]
  },
  {
   "cell_type": "code",
   "execution_count": null,
   "id": "6cef4aef-258b-4acd-992c-698f568be64e",
   "metadata": {},
   "outputs": [],
   "source": [
    "# Convert our tensor back to  a Numpy Array\n",
    "np.array(J), type(np.array(J))"
   ]
  },
  {
   "cell_type": "code",
   "execution_count": null,
   "id": "3d217ba5-2cfb-425c-8055-6b2c9e119b63",
   "metadata": {},
   "outputs": [],
   "source": [
    "# Convert tensor J to a Numpy array\n",
    "J.numpy(), type(J.numpy())"
   ]
  },
  {
   "cell_type": "code",
   "execution_count": null,
   "id": "adb6d748-3a3c-4ec8-b1b6-54c85ff49e72",
   "metadata": {},
   "outputs": [],
   "source": [
    "J = tf.constant([3.])\n",
    "J.numpy()"
   ]
  },
  {
   "cell_type": "code",
   "execution_count": 17,
   "id": "187bc567-22fa-4dcf-9475-b269583033fe",
   "metadata": {},
   "outputs": [
    {
     "data": {
      "text/plain": [
       "(tf.float64, tf.float32)"
      ]
     },
     "execution_count": 17,
     "metadata": {},
     "output_type": "execute_result"
    }
   ],
   "source": [
    "# The default types of each are slightly different\n",
    "numpy_J = tf.constant(np.array([3., 7., 10.]))\n",
    "tensor_J = tf.constant([3.,7., 10.])\n",
    "# Check datatype of each\n",
    "numpy_J.dtype, tensor_J.dtype"
   ]
  },
  {
   "cell_type": "markdown",
   "id": "fab20d1f-df82-44dd-848c-9433c3a42c1b",
   "metadata": {},
   "source": [
    "### Finding access to GPUs"
   ]
  },
  {
   "cell_type": "code",
   "execution_count": 19,
   "id": "9ad8973b-98b2-469d-b8e3-5657156a0d99",
   "metadata": {},
   "outputs": [
    {
     "data": {
      "text/plain": [
       "[PhysicalDevice(name='/physical_device:CPU:0', device_type='CPU')]"
      ]
     },
     "execution_count": 19,
     "metadata": {},
     "output_type": "execute_result"
    }
   ],
   "source": [
    "tf.config.list_physical_devices()"
   ]
  },
  {
   "cell_type": "code",
   "execution_count": null,
   "id": "2e1defca-c18a-4b4e-93b5-42e8e11c3d82",
   "metadata": {},
   "outputs": [],
   "source": []
  }
 ],
 "metadata": {
  "kernelspec": {
   "display_name": "Python 3 (ipykernel)",
   "language": "python",
   "name": "python3"
  },
  "language_info": {
   "codemirror_mode": {
    "name": "ipython",
    "version": 3
   },
   "file_extension": ".py",
   "mimetype": "text/x-python",
   "name": "python",
   "nbconvert_exporter": "python",
   "pygments_lexer": "ipython3",
   "version": "3.9.1"
  }
 },
 "nbformat": 4,
 "nbformat_minor": 5
}
